{
 "cells": [
  {
   "cell_type": "markdown",
   "id": "ad07677f-8070-46b6-82d0-4867088fbc3d",
   "metadata": {
    "tags": []
   },
   "source": [
    "## Implementation of Parallel MMDE\n",
    "The following code implements the P-MMDE. It includes the test functions and the scipy nested parallel DE.\n",
    "First we include the relevant libraries."
   ]
  },
  {
   "cell_type": "code",
   "execution_count": 1,
   "id": "193a41f2-218b-4841-a0d0-07efbd8213e6",
   "metadata": {},
   "outputs": [],
   "source": [
    "# nested DE for global optimization for a minmax objective function\n",
    "import json\n",
    "import time\n",
    "import numpy as np\n",
    "\n",
    "from scipy.optimize import differential_evolution\n",
    "genLL = 10\n",
    "npopLL = 10\n",
    "genUL = 5\n",
    "npopUL = 20"
   ]
  },
  {
   "cell_type": "markdown",
   "id": "e7e46fc0-976b-4f4d-bddd-369d40281f00",
   "metadata": {},
   "source": [
    "Then we define the optimization problems, including their bounds and their upper and lower level objective functions."
   ]
  },
  {
   "cell_type": "code",
   "execution_count": 2,
   "id": "6fde32fb-84ce-4f9e-a147-cce2dd063344",
   "metadata": {},
   "outputs": [],
   "source": [
    "# define the bounds on the search\n",
    "def get_bounds(t):\n",
    "    r_minL, r_maxL = 0.0, 10.0\n",
    "    # define the bounds on the LL search\n",
    "    boundsLL = [(r_minL, r_maxL)] * t\n",
    "    r_minU, r_maxU = 0.0, 10.0\n",
    "    # define the bounds on the ul search\n",
    "    boundsUL = [(r_minU, r_maxU)] * t\n",
    "    return boundsLL, boundsUL"
   ]
  },
  {
   "cell_type": "code",
   "execution_count": 3,
   "id": "e070fe9b-cd37-45c3-9585-6852c8ad976a",
   "metadata": {},
   "outputs": [],
   "source": [
    "# objective function\n",
    "def objectiveUL(x, t):\n",
    "    resultll = differential_evolution(objectiveLL, bounds=get_bounds(t)[0], maxiter=10, popsize=10, workers=1, args=(x, t))\n",
    "    return -resultll.fun\n",
    "# objective function\n",
    "def objectiveLL(x, y, t):\n",
    "    f1 = sum((x[t] - 5) ** 2 - (y[t] - 5) ** 2 for t in range(t)) #-f8\n",
    "    # f2 = 4 * (x[0] - 2) ** 2 - 2 * y[0] ** 2 + x[0] ** 2 * y[0] - y[1] ** 2 + 2 * x[1] ** 2 * y[1]\n",
    "    # f5 = - (x[0] - 1) * y[0] - (x[1] - 2) * y[1] - (x[2] - 1) * y[2] + 2 * x[0] ** 2 + 3 * x[1] ** 2 + x[2] ** 3 - y[0]**2 - y[1]**2 - y[2]**2\n",
    "    # f7 = 2 * x[0] * x[4] + 3 * x[3] * x[1] + x[4] * x[2] + 5 * y[3] ** 2 + 5 * y[4] ** 2 - x[3] * (y[3] - y[4] - 5) + x[\n",
    "    #      4] * (y[3] - y[4] + 3) + sum(x[i] * (y[i] - 1), 2) - sum(y**2)\n",
    "    #f9_1 = 3 + sum(- 0.2 * x[t] + 0.3 * y[t] for t in range(t))\n",
    "    #f9_2 = 3 + sum(0.2 * x[t] - 0.1 * y[t] for t in range(t))\n",
    "    #f9 = min(f9_1, f9_2) %-f9\n",
    "    #f10 = np.divide(sum(np.sin(x[t]-y[t])for t in range(t)),sum(np.sqrt(x[t]**2+y[t]**2)for t in range(t))) #send it as f10\n",
    "\n",
    "    #f11 = np.divide(sum(np.cos(np.sqrt(x[t]**2+y[t]**2))for t in range(t)),sum(np.sqrt(x[t]**2+y[t]**2)+10 for t in range(t)))\n",
    "    return -f1"
   ]
  },
  {
   "cell_type": "code",
   "execution_count": 4,
   "id": "932e45b2-f850-4153-85cf-0ca35a0810e8",
   "metadata": {},
   "outputs": [],
   "source": [
    "# f1 objective (equivelant to f8)\n",
    "# optimal solution: (5,5) optimal obj: 0\n",
    "def f1UL(x, t):\n",
    "    resultll = differential_evolution(f1LL, bounds=get_bounds(t)[0], maxiter=genLL, popsize=npopLL, workers=1, args=(x, t))\n",
    "    return -resultll.fun\n",
    "\n",
    "\n",
    "def f1LL(x, y, t):\n",
    "    f1 = sum((x[t] - 5) ** 2 - (y[t] - 5) ** 2 for t in range(t)) \n",
    "    return f1"
   ]
  },
  {
   "cell_type": "code",
   "execution_count": 5,
   "id": "a9ab9606-92ef-4f59-b971-670048caa1e5",
   "metadata": {},
   "outputs": [],
   "source": [
    "# f2 objective (equivelant to f9)\n",
    "# optimal solution: (0,0) optimal obj: 3\n",
    "def f2UL(x, t):\n",
    "    resultll = differential_evolution(f2LL, bounds=get_bounds(t)[0],  maxiter=genLL, popsize=npopLL, workers=1, args=(x, t),disp=False)\n",
    "    return -resultll.fun\n",
    "\n",
    "\n",
    "def f2LL(x, y, t):\n",
    "    f2_1 = 3 + sum(- 0.2 * x[t] + 0.3 * y[t] for t in range(t))\n",
    "    f2_2 = 3 + sum(0.2 * x[t] - 0.1 * y[t] for t in range(t))\n",
    "    f2 = min(f2_1, f2_2)\n",
    "    return -f2"
   ]
  },
  {
   "cell_type": "code",
   "execution_count": 6,
   "id": "78a65b1b-24d9-4574-934b-a696887c612f",
   "metadata": {},
   "outputs": [],
   "source": [
    "# f3 objective (equivelant to f10)\n",
    "# optimal solution: (10,2.1257) optimal obj: 0.097794\n",
    "\n",
    "def f3UL(x, t):\n",
    "    resultll = differential_evolution(f3LL, bounds=get_bounds(t)[0],  maxiter=genLL, popsize=npopLL, workers=1, args=(x, t),disp=False)\n",
    "    return -resultll.fun\n",
    "\n",
    "\n",
    "def f3LL(x, y, t):\n",
    "    f3 = np.divide(sum(np.sin(x[t]-y[t])for t in range(t)),sum(np.sqrt(x[t]**2+y[t]**2)for t in range(t))) #send it as f3\n",
    "    return f3"
   ]
  },
  {
   "cell_type": "code",
   "execution_count": 7,
   "id": "98e7a857-7c86-435c-8ce8-3137ee056938",
   "metadata": {},
   "outputs": [],
   "source": [
    "# f4 objective (equivelant to f11)\n",
    "# optimal solution: (7.0441,10) optimal obj: 0.042488\n",
    "\n",
    "def f4UL(x, t):\n",
    "    resultll = differential_evolution(f4LL, bounds=get_bounds(t)[0], maxiter=genLL, popsize=npopLL, workers=1, args=(x, t),disp=False)\n",
    "    return -resultll.fun\n",
    "\n",
    "\n",
    "def f4LL(x, y, t):\n",
    "    f4 = np.divide(sum(np.cos(np.sqrt(x[t]**2+y[t]**2))for t in range(t)),sum((np.sqrt(x[t]**2+y[t]**2)+10) for t in range(t)))\n",
    "    #f = np.divide(sum(np.cos(np.sqrt(x[t]**2+y[t]**2))for t in range(t)),sum(np.sqrt(x[t]**2+y[t]**2)+10 for t in range(t))\n",
    "    return -f4"
   ]
  },
  {
   "cell_type": "markdown",
   "id": "52c26bd4-e4d0-4247-80e4-a18a1ad6bc4d",
   "metadata": {},
   "source": [
    "Then we run the experiments for different number of cores, different dimensionality of the problem and a number of runs. We then save the results in a txt file."
   ]
  },
  {
   "cell_type": "code",
   "execution_count": null,
   "id": "b53a0fcb-590e-4290-99ca-d90237442650",
   "metadata": {
    "tags": []
   },
   "outputs": [],
   "source": [
    "if __name__ == \"__main__\":\n",
    "    tfunction = 1\n",
    "    for core in [1,2,4,8,16,24]: #removed the 1/add it again\n",
    "        for t in [1,2,5,10]:\n",
    "            rt = []\n",
    "            for i in range(0, 20):\n",
    "                start = time.time()\n",
    "                result = differential_evolution(f1UL, bounds=get_bounds(t)[1],  strategy='best1bin',maxiter=genUL, workers=core,\n",
    "                                                popsize=npopUL, args=(t,), updating='deferred',disp=False)\n",
    "                                                #updating='deferred', args=(t,))\n",
    "                end = time.time()\n",
    "                rt.append((core, end - start, result.x.tolist(), result.fun.tolist()))\n",
    "                #print('Runtime %s cores:  %s' % (core, end - start))\n",
    "                #print('Runtime %s result x:  %s' % (core, result.x))\n",
    "                #print('Runtime %s result f:  %s' % (core, result.fun))\n",
    "            with open(f'results_fun{tfunction}_dim{t}_cores{core}.txt', 'w') as f:\n",
    "                f.write(json.dumps(rt))\n",
    "                "
   ]
  },
  {
   "cell_type": "code",
   "execution_count": 8,
   "id": "5a33fced-ead0-4716-90cc-fe5a55c60f15",
   "metadata": {},
   "outputs": [],
   "source": [
    "if __name__ == \"__main__\":\n",
    "    tfunction = 1\n",
    "    for core in [1,2,4,8,16,24]: #removed the 1/add it again\n",
    "        t = 1\n",
    "        for npopUL in [4,8,16,24,48]:\n",
    "            rt = []\n",
    "            for i in range(0, 20):\n",
    "                start = time.time()\n",
    "                result = differential_evolution(f1UL, bounds=get_bounds(t)[1],  strategy='best1bin',maxiter=genUL, workers=core,\n",
    "                                                popsize=npopUL, args=(t,), updating='deferred',disp=False)\n",
    "                                                #updating='deferred', args=(t,))\n",
    "                end = time.time()\n",
    "                rt.append((core, end - start, result.x.tolist(), result.fun.tolist()))\n",
    "                #print('Runtime %s cores:  %s' % (core, end - start))\n",
    "                #print('Runtime %s result x:  %s' % (core, result.x))\n",
    "                #print('Runtime %s result f:  %s' % (core, result.fun))\n",
    "            with open(f'results_fun{tfunction}_npop{npopUL}_cores{core}.txt', 'w') as f:\n",
    "                f.write(json.dumps(rt))"
   ]
  },
  {
   "cell_type": "code",
   "execution_count": null,
   "id": "37c2960a-6534-422d-9b21-118c2c83113f",
   "metadata": {},
   "outputs": [],
   "source": [
    "if __name__ == \"__main__\":\n",
    "    tfunction = 4\n",
    "    for core in [1,2,4,8,16,24]: #removed the 1/add it again\n",
    "        for t in [1,2,5,10]:\n",
    "            rt = []\n",
    "            for i in range(0, 20):\n",
    "                start = time.time()\n",
    "                result = differential_evolution(f4UL, bounds=get_bounds(t)[1],  strategy='best2bin',maxiter=genUL, workers=core,\n",
    "                                                popsize=npopUL, args=(t,), updating='deferred',disp=False)\n",
    "                                                #updating='deferred', args=(t,))\n",
    "                end = time.time()\n",
    "                rt.append((core, end - start, result.x.tolist(), result.fun.tolist()))\n",
    "                #print('Runtime %s cores:  %s' % (core, end - start))\n",
    "                #print('Runtime %s result x:  %s' % (core, result.x))\n",
    "                #print('Runtime %s result f:  %s' % (core, result.fun))\n",
    "            with open(f'results_fun{tfunction}_dim{t}_cores{core}.txt', 'w') as f:\n",
    "                f.write(json.dumps(rt))"
   ]
  },
  {
   "cell_type": "markdown",
   "id": "590f390f-d9c7-4c98-92d7-aa0602431c41",
   "metadata": {},
   "source": [
    "The following two test functions, f5 and f6, are tested only on their original dimensionalities [2,2]. We should add their bounds also here, as they are different than the rest."
   ]
  },
  {
   "cell_type": "code",
   "execution_count": 43,
   "id": "a36f87ab-f054-4110-9b4c-bf34c6bc7385",
   "metadata": {},
   "outputs": [],
   "source": [
    "# define the bounds on the search\n",
    "def get_boundsf5():\n",
    "    r_minL, r_maxL = 0.0, 10.0\n",
    "    # define the bounds on the LL search\n",
    "    boundsLL = [(r_minL, r_maxL)] * 2\n",
    "    boundsUL = ([-0.5, 0.0],[ 0.5, 1.0])\n",
    "    return boundsLL, boundsUL"
   ]
  },
  {
   "cell_type": "code",
   "execution_count": 48,
   "id": "2ed4dd82-5c46-493c-9768-7820679005d0",
   "metadata": {
    "tags": []
   },
   "outputs": [],
   "source": [
    "# f5 objective (equivelant to f12)\n",
    "# optimal solution: (0.5,0.25/0,0) optimal obj: 0.25\n",
    "\n",
    "def f5UL(x):\n",
    "    resultll = differential_evolution(f5LL, bounds=get_boundsf5()[0],  maxiter=genLL, popsize=npopLL, workers=1, args=(x, ))\n",
    "    return -resultll.fun\n",
    "\n",
    "\n",
    "def f5LL(x, y):\n",
    "    f5 = 100*(x[1]-x[0]**2)**2 + (1 - x[0])**2 - y[0]*(x[0] + x[1]**2) - y[1]*(x[0]**2 + x[1])\n",
    "    return f5\n"
   ]
  },
  {
   "cell_type": "markdown",
   "id": "a6d0a9ae-c7f5-4f71-9f5a-aeb635d34e09",
   "metadata": {},
   "source": [
    "To run the experiments for f5 we should run the following code: "
   ]
  },
  {
   "cell_type": "code",
   "execution_count": 50,
   "id": "082dcc18-6a53-468d-a65a-5a51d9e0f6bf",
   "metadata": {},
   "outputs": [
    {
     "name": "stdout",
     "output_type": "stream",
     "text": [
      "Runtime 48 cores:  2.070824146270752\n",
      "Runtime 48 result x:  [-0.48626652  0.59174923]\n",
      "Runtime 48 result f:  0.21279452103135044\n"
     ]
    }
   ],
   "source": [
    "if __name__ == \"__main__\":\n",
    "    tfunction = 5\n",
    "    for core in [48]:#[1,2,4,8,16,32,48]:\n",
    "            rt = []\n",
    "            for i in range(0, 1):\n",
    "                start = time.time()\n",
    "                result = differential_evolution(f5UL, bounds=get_boundsf5()[1],  strategy='randtobest1bin',maxiter=genUL, workers=core,\n",
    "                                                popsize=npopUL,\n",
    "                                                updating='deferred',disp=False)\n",
    "                end = time.time()\n",
    "                rt.append((core, end - start, result.x.tolist(), result.fun.tolist()))\n",
    "                print('Runtime %s cores:  %s' % (core, end - start))\n",
    "                print('Runtime %s result x:  %s' % (core, result.x))\n",
    "                print('Runtime %s result f:  %s' % (core, result.fun))\n",
    "            with open(f'run-times_fun{tfunction}_{2}_{core}.txt', 'w') as f:\n",
    "                f.write(json.dumps(rt))"
   ]
  },
  {
   "cell_type": "markdown",
   "id": "b59eb47d-a0d5-4c3e-8eb3-2f685bcd8192",
   "metadata": {},
   "source": [
    "We define the bounds and the objectives for f6"
   ]
  },
  {
   "cell_type": "code",
   "execution_count": 11,
   "id": "587d2431-fd97-4121-ae98-df115dbf7016",
   "metadata": {},
   "outputs": [],
   "source": [
    "# define the bounds on the search\n",
    "def get_boundsf6():\n",
    "    r_minL, r_maxL = 0.0, 10.0\n",
    "    # define the bounds on the LL search\n",
    "    boundsLL = [(r_minL, r_maxL)] * 2\n",
    "    r_minU, r_maxU = -1.0, 3.0\n",
    "    # define the bounds on the ul search\n",
    "    boundsUL = [(r_minU, r_maxU)] * 2\n",
    "    return boundsLL, boundsUL"
   ]
  },
  {
   "cell_type": "code",
   "execution_count": 12,
   "id": "9cd31bc7-c6b3-49eb-9607-81c0c934b67c",
   "metadata": {},
   "outputs": [],
   "source": [
    "# f6 objective\n",
    "# optimal solution: (1,1/any,any) optimal obj: 1\n",
    "\n",
    "def f6UL(x):\n",
    "    resultll = differential_evolution(f6LL, bounds=get_boundsf6()[0],  maxiter=genLL, popsize=npopLL, workers=1, args=(x, ),disp=False)\n",
    "    return -resultll.fun\n",
    "\n",
    "\n",
    "def f6LL(x, y):\n",
    "    f6 = (x[0]-2)**2 + (x[1] - 1 )**2 + y[0]*(x[0]**2-x[1]) + y[1]*(x[0]+x[1]-2)\n",
    "    return f6"
   ]
  },
  {
   "cell_type": "markdown",
   "id": "67404139-70b8-4391-8b10-8b9c53ec6f6e",
   "metadata": {},
   "source": [
    "To run the experiments for f6 we should run the following code:"
   ]
  },
  {
   "cell_type": "code",
   "execution_count": 13,
   "id": "3ad1b7c2-d799-4c1f-906a-a74f721bd8ab",
   "metadata": {},
   "outputs": [
    {
     "name": "stdout",
     "output_type": "stream",
     "text": [
      "Runtime 48 cores:  2.4552931785583496\n",
      "Runtime 48 result x:  [0.66666667 0.66666666]\n",
      "Runtime 48 result f:  -0.9999999999999999\n"
     ]
    }
   ],
   "source": [
    "if __name__ == \"__main__\":\n",
    "    tfunction = 6\n",
    "    for core in [48]:#[1,2,4,8,16,32,48]:\n",
    "            rt = []\n",
    "            for i in range(0, 1):\n",
    "                start = time.time()\n",
    "                result = differential_evolution(f6UL, bounds=get_boundsf6()[1],  strategy='randtobest1bin',maxiter=genUL, workers=core,\n",
    "                                                popsize=npopUL,\n",
    "                                                updating='deferred',disp=False)\n",
    "                end = time.time()\n",
    "                rt.append((core, end - start, result.x.tolist(), result.fun.tolist()))\n",
    "                print('Runtime %s cores:  %s' % (core, end - start))\n",
    "                print('Runtime %s result x:  %s' % (core, result.x))\n",
    "                print('Runtime %s result f:  %s' % (core, result.fun))\n",
    "            with open(f'run-times_fun{tfunction}_{2}_{core}.txt', 'w') as f:\n",
    "                f.write(json.dumps(rt))"
   ]
  },
  {
   "cell_type": "code",
   "execution_count": null,
   "id": "2be4db85-1701-43b3-82ea-61a7ebac0100",
   "metadata": {},
   "outputs": [],
   "source": []
  }
 ],
 "metadata": {
  "kernelspec": {
   "display_name": "Python 3 (ipykernel)",
   "language": "python",
   "name": "python3"
  },
  "language_info": {
   "codemirror_mode": {
    "name": "ipython",
    "version": 3
   },
   "file_extension": ".py",
   "mimetype": "text/x-python",
   "name": "python",
   "nbconvert_exporter": "python",
   "pygments_lexer": "ipython3",
   "version": "3.9.7"
  }
 },
 "nbformat": 4,
 "nbformat_minor": 5
}
