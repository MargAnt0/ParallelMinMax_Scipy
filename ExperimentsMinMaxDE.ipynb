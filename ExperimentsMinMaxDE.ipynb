{
 "cells": [
  {
   "cell_type": "markdown",
   "id": "ad07677f-8070-46b6-82d0-4867088fbc3d",
   "metadata": {
    "tags": []
   },
   "source": [
    "## Implementation of Parallel MMDE\n",
    "The following code implements the P-MMDE. It includes the test functions and the scipy nested parallel DE.\n",
    "First we include the relevant libraries."
   ]
  },
  {
   "cell_type": "code",
   "execution_count": 1,
   "id": "193a41f2-218b-4841-a0d0-07efbd8213e6",
   "metadata": {},
   "outputs": [],
   "source": [
    "# nested DE for global optimization for a minmax objective function\n",
    "import json\n",
    "import time\n",
    "import numpy as np\n",
    "\n",
    "from scipy.optimize import differential_evolution\n",
    "genLL = 10\n",
    "npopLL = 10\n",
    "genUL = 5\n",
    "npopUL = 20"
   ]
  },
  {
   "cell_type": "markdown",
   "id": "e7e46fc0-976b-4f4d-bddd-369d40281f00",
   "metadata": {},
   "source": [
    "Then we define the optimization problems, including their bounds and their upper and lower level objective functions."
   ]
  },
  {
   "cell_type": "code",
   "execution_count": null,
   "id": "6fde32fb-84ce-4f9e-a147-cce2dd063344",
   "metadata": {},
   "outputs": [],
   "source": [
    "# define the bounds on the search\n",
    "def get_bounds(t):\n",
    "    r_minL, r_maxL = 0.0, 10.0\n",
    "    # define the bounds on the LL search\n",
    "    boundsLL = [(r_minL, r_maxL)] * t\n",
    "    r_minU, r_maxU = 0.0, 10.0\n",
    "    # define the bounds on the ul search\n",
    "    boundsUL = [(r_minU, r_maxU)] * t\n",
    "    return boundsLL, boundsUL"
   ]
  },
  {
   "cell_type": "code",
   "execution_count": 4,
   "id": "932e45b2-f850-4153-85cf-0ca35a0810e8",
   "metadata": {},
   "outputs": [],
   "source": [
    "# f1 objective (equivelant to f8)\n",
    "# optimal solution: (5,5) optimal obj: 0\n",
    "def f1UL(x, t):\n",
    "    resultll = differential_evolution(f1LL, bounds=get_bounds(t)[0], maxiter=genLL, popsize=npopLL, workers=1, args=(x, t))\n",
    "    return -resultll.fun\n",
    "\n",
    "\n",
    "def f1LL(x, y, t):\n",
    "    f1 = sum((x[t] - 5) ** 2 - (y[t] - 5) ** 2 for t in range(t)) \n",
    "    return f1"
   ]
  },
  {
   "cell_type": "code",
   "execution_count": 5,
   "id": "a9ab9606-92ef-4f59-b971-670048caa1e5",
   "metadata": {},
   "outputs": [],
   "source": [
    "# f2 objective (equivelant to f9)\n",
    "# optimal solution: (0,0) optimal obj: 3\n",
    "def f2UL(x, t):\n",
    "    resultll = differential_evolution(f2LL, bounds=get_bounds(t)[0],  maxiter=genLL, popsize=npopLL, workers=1, args=(x, t),disp=False)\n",
    "    return -resultll.fun\n",
    "\n",
    "\n",
    "def f2LL(x, y, t):\n",
    "    f2_1 = 3 + sum(- 0.2 * x[t] + 0.3 * y[t] for t in range(t))\n",
    "    f2_2 = 3 + sum(0.2 * x[t] - 0.1 * y[t] for t in range(t))\n",
    "    f2 = min(f2_1, f2_2)\n",
    "    return -f2"
   ]
  },
  {
   "cell_type": "code",
   "execution_count": 6,
   "id": "78a65b1b-24d9-4574-934b-a696887c612f",
   "metadata": {},
   "outputs": [],
   "source": [
    "# f3 objective (equivelant to f10)\n",
    "# optimal solution: (10,2.1257) optimal obj: 0.097794\n",
    "\n",
    "def f3UL(x, t):\n",
    "    resultll = differential_evolution(f3LL, bounds=get_bounds(t)[0],  maxiter=genLL, popsize=npopLL, workers=1, args=(x, t),disp=False)\n",
    "    return -resultll.fun\n",
    "\n",
    "\n",
    "def f3LL(x, y, t):\n",
    "    f3 = np.divide(sum(np.sin(x[t]-y[t])for t in range(t)),sum(np.sqrt(x[t]**2+y[t]**2)for t in range(t))) #send it as f3\n",
    "    return f3"
   ]
  },
  {
   "cell_type": "code",
   "execution_count": 7,
   "id": "98e7a857-7c86-435c-8ce8-3137ee056938",
   "metadata": {},
   "outputs": [],
   "source": [
    "# f4 objective (equivelant to f11)\n",
    "# optimal solution: (7.0441,10) optimal obj: 0.042488\n",
    "\n",
    "def f4UL(x, t):\n",
    "    resultll = differential_evolution(f4LL, bounds=get_bounds(t)[0], maxiter=genLL, popsize=npopLL, workers=1, args=(x, t),disp=False)\n",
    "    return -resultll.fun\n",
    "\n",
    "\n",
    "def f4LL(x, y, t):\n",
    "    f4 = np.divide(sum(np.cos(np.sqrt(x[t]**2+y[t]**2))for t in range(t)),sum((np.sqrt(x[t]**2+y[t]**2)+10) for t in range(t)))\n",
    "    #f = np.divide(sum(np.cos(np.sqrt(x[t]**2+y[t]**2))for t in range(t)),sum(np.sqrt(x[t]**2+y[t]**2)+10 for t in range(t))\n",
    "    return -f4"
   ]
  },
  {
   "cell_type": "markdown",
   "id": "52c26bd4-e4d0-4247-80e4-a18a1ad6bc4d",
   "metadata": {},
   "source": [
    "Then we run the experiments for different number of cores, different dimensionality of the problem and a number of runs. We then save the results in a txt file."
   ]
  },
  {
   "cell_type": "code",
   "execution_count": null,
   "id": "b53a0fcb-590e-4290-99ca-d90237442650",
   "metadata": {
    "tags": []
   },
   "outputs": [],
   "source": [
    "if __name__ == \"__main__\":\n",
    "    tfunction = 1\n",
    "    for core in [1,2,4,8,16,24]: #removed the 1/add it again\n",
    "        for t in [1,2,5,10]:\n",
    "            rt = []\n",
    "            for i in range(0, 20):\n",
    "                start = time.time()\n",
    "                result = differential_evolution(f1UL, bounds=get_bounds(t)[1],  strategy='best1bin',maxiter=genUL, workers=core,\n",
    "                                                popsize=npopUL, args=(t,), updating='deferred',disp=False)\n",
    "                                                #updating='deferred', args=(t,))\n",
    "                end = time.time()\n",
    "                rt.append((core, end - start, result.x.tolist(), result.fun.tolist()))\n",
    "                #print('Runtime %s cores:  %s' % (core, end - start))\n",
    "                #print('Runtime %s result x:  %s' % (core, result.x))\n",
    "                #print('Runtime %s result f:  %s' % (core, result.fun))\n",
    "            with open(f'results_fun{tfunction}_dim{t}_cores{core}.txt', 'w') as f:\n",
    "                f.write(json.dumps(rt))\n",
    "                "
   ]
  }
 ],
 "metadata": {
  "kernelspec": {
   "display_name": "Python 3 (ipykernel)",
   "language": "python",
   "name": "python3"
  },
  "language_info": {
   "codemirror_mode": {
    "name": "ipython",
    "version": 3
   },
   "file_extension": ".py",
   "mimetype": "text/x-python",
   "name": "python",
   "nbconvert_exporter": "python",
   "pygments_lexer": "ipython3",
   "version": "3.9.7"
  }
 },
 "nbformat": 4,
 "nbformat_minor": 5
}
